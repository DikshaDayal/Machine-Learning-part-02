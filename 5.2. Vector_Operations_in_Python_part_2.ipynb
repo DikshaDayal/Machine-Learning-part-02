{
  "nbformat": 4,
  "nbformat_minor": 0,
  "metadata": {
    "colab": {
      "provenance": [],
      "authorship_tag": "ABX9TyN/4SczPUvV5H8sJUCI51kU",
      "include_colab_link": true
    },
    "kernelspec": {
      "name": "python3",
      "display_name": "Python 3"
    },
    "language_info": {
      "name": "python"
    }
  },
  "cells": [
    {
      "cell_type": "markdown",
      "metadata": {
        "id": "view-in-github",
        "colab_type": "text"
      },
      "source": [
        "<a href=\"https://colab.research.google.com/github/DikshaDayal/Machine-Learning-part-02-/blob/main/5.2.%20Vector_Operations_in_Python_part_2.ipynb\" target=\"_parent\"><img src=\"https://colab.research.google.com/assets/colab-badge.svg\" alt=\"Open In Colab\"/></a>"
      ]
    },
    {
      "cell_type": "markdown",
      "source": [
        "**Vector Operation in Python Part 2**\n",
        "* Dot Proctuct\n",
        "* Cross product"
      ],
      "metadata": {
        "id": "lUE6YVuIz_1B"
      }
    },
    {
      "cell_type": "code",
      "source": [
        "#import the dependencies\n",
        "import numpy as np"
      ],
      "metadata": {
        "id": "u1uZ9vSQ0Txj"
      },
      "execution_count": 2,
      "outputs": []
    },
    {
      "cell_type": "code",
      "execution_count": 4,
      "metadata": {
        "colab": {
          "base_uri": "https://localhost:8080/"
        },
        "id": "E_AcPZwNz2Cj",
        "outputId": "5229cf0f-04f4-46f5-983c-29d4243984e4"
      },
      "outputs": [
        {
          "output_type": "stream",
          "name": "stdout",
          "text": [
            "11\n"
          ]
        }
      ],
      "source": [
        "#Dot_product\n",
        "vector_1 = np.asarray([1,2])\n",
        "vector_2 = np.asarray([3,4])\n",
        "vector_3 = vector_1.dot(vector_2)\n",
        "print(vector_3)"
      ]
    },
    {
      "cell_type": "code",
      "source": [
        "vector_1 = np.asarray([1,2])\n",
        "vector_2 = np.asarray([3,4])\n",
        "vector_3 = np.dot(vector_1 ,vector_2)\n",
        "print(vector_3)"
      ],
      "metadata": {
        "colab": {
          "base_uri": "https://localhost:8080/"
        },
        "id": "I-SlJQGs0qz7",
        "outputId": "f687fab9-7106-4b0e-c9a6-474e7dddabaa"
      },
      "execution_count": 5,
      "outputs": [
        {
          "output_type": "stream",
          "name": "stdout",
          "text": [
            "11\n"
          ]
        }
      ]
    },
    {
      "cell_type": "code",
      "source": [
        "vector_1 = np.asarray(([1,2,4] , [4,5,6] , [1,2,4]))\n",
        "vector_2 = np.asarray(([3,4,5] , [4,5,6] , [1,2,4]))\n",
        "vector_1_cross_vector_2 = np.dot(vector_1 ,vector_2)\n",
        "print(vector_1_cross_vector_2)"
      ],
      "metadata": {
        "colab": {
          "base_uri": "https://localhost:8080/"
        },
        "id": "CFmkEHZs6Y2O",
        "outputId": "a63302bf-b92b-46bd-f3b6-83b50bfc08ef"
      },
      "execution_count": 10,
      "outputs": [
        {
          "output_type": "stream",
          "name": "stdout",
          "text": [
            "[[15 22 33]\n",
            " [38 53 74]\n",
            " [15 22 33]]\n"
          ]
        }
      ]
    },
    {
      "cell_type": "markdown",
      "source": [
        "**Cross Product Of Two Vector**\n",
        "\n",
        "---\n",
        "\n"
      ],
      "metadata": {
        "id": "lAIhNSTs0_9-"
      }
    },
    {
      "cell_type": "code",
      "source": [
        "vector_1 = np.asarray([1,2,4])\n",
        "vector_2 = np.asarray([3,4,5])\n",
        "vector_1_cross_vector_2 = np.cross(vector_1 ,vector_2)\n",
        "print(vector_1_cross_vector_2)"
      ],
      "metadata": {
        "colab": {
          "base_uri": "https://localhost:8080/"
        },
        "id": "zsuy4oIc07Oa",
        "outputId": "5fea4e54-84a2-4929-f5ac-a4ba1a0610b1"
      },
      "execution_count": 7,
      "outputs": [
        {
          "output_type": "stream",
          "name": "stdout",
          "text": [
            "[-6  7 -2]\n"
          ]
        }
      ]
    },
    {
      "cell_type": "markdown",
      "source": [
        "Projection of \"a\" vector on \"v\" vector\n",
        "\n",
        "![image.png](data:image/png;base64,iVBORw0KGgoAAAANSUhEUgAAApMAAADfCAIAAAAlcc+UAAAgAElEQVR4Ae2d72sbV77/5w+YJ37oB4GAEPhBIATjBwlhkR8kpBjs0GJM0iCcssEOy+KkS+27EDvL1u6l1bJbmduq/e4OuzXdW/X7zZC7Vfcb3W7UNA7YvY32ViE2uUpr92s3njZOHccoxoklj75ItmbO/P6hkTSjefuJzvw653Nen+N5n19zDlXEHwiAAAiAAAiAgHcIUN4xFZaCAAiAAAiAAAgUodwoBCAAAiAAAiDgJQJQbi95C7aCAAiAAAiAAJQbZQAEQAAEQAAEvEQAyu0lb8FWEAABEAABEIByowyAAAiAAAiAgJcIQLm95C3YCgIgUBWBQj7PVxUBHgYBNxCAcrvBC7ABBEDAKQJ8Psdl058n4kx0fHggfLqrvZVS+aMDoZfC4cHh8SgTT6TSWS6Xd8oCL8fD5/OFquznC/mCmcqRxYRQ5ZJ6Bcot5YEjEAABjxLIP16YYSeH+9ppFaE2cSrYOTDOJL5cWN/2KAAnzM6lIyGCVTDUeyZs9Hemi0Q+wHJm6kBEQoFQr2YSZ3pDwZI9gUjaTKxOIPBEHFBuT7gJRoIACOgQKOQWkpG+g4TkVBEMHB+MXsv6VL8JQbWJ0Lpym0kIyi0t/lBuKQ8cgQAIeIxAfnUm2hdUa2gHQn1Do29FYlNXWPZqcvp2Op1O355OXr0yFZt4tVe9F70iI8GXI8lvcmb6fT2GS99cKLc+H7dchXK7xROwAwRAwDoBfnshflZVtql9xyJfbuhIb35j6fbHY91tFa1W/h7si9zg/DWlDcptvQw24gkodyOoI00QAAFHCPAPUyNHlJJbOXMikn5ikE7+wRcTL7ZUHlD87usc+8xP4p1fX8yUuibEv3/EwjqVm9IQdG80Kd6evsdt6VSXBG+UEppNfcqq93/Qgc5zo28zcZZlE6nZdDr9z8V1M7EK0Td7AMrd7B5G/kCgiQmsJYe0VZeiqNbh1IZh9vPfXx97Qa23fVfHg6emsj6etMZvpn93WFGjIU+0nGVXqpLVnY3Ur4kPAFo6Rq75qbZkWEBVboByq0DBKRAAAU8QyKcjAVJDlOFD0YyJr5z4x1+MdWhXAejTTHbTE0BqYuTO/amT+5VoiTMm+jZ0LOMfJAYPiLHRr8SXnuvcjkvFIvYKQykAARDwLAFj5TY7J3l7hT2vI91tI9fXqmpWehZxyfDCWuqSfo9564WkXT78dpbpEXs8aH+jNltO0OY2Swr3gQAIuI2Ac8pd5B8mBrWlm/J5Q/D519EjOnQoyna3hGymgu143FY0a2wPlLvGgBE9CIBAzQjwi1M9YjerWqhnatFkW5n/Zqpnn1oUu+eC/eySyZhqlt0GRqzfJ0FRFH1gfMbGiAK/wp4lqgRVD5k3EFFdk4Zy1xU3EgMBEHCSAL/EntXpx207a0FuDT6IahlKrjlputfi2vwqcpjQWGUdp+U8u2J1Jt+TdOQEEVN14+VeI1qNvVDuaujhWRAAgcYS4Lfm3u8WR0kJFaAouvv9OVNfKO1mIc+xA5LnZQfHmexOYzPb2NQ3s8xpDdK7pFoOR76y1Ozm15IXiDnl9Km4n7s1LHkXym0JF24GARBwG4Fn3Mw7YfliLHQw/M4M98yKrUbKbXaym5U0PXUvv3Z9pE1Xu9supdZMTOXfy7WsKnBkJPXQx+MR1ooClNsaL9wNAiDgPgJ8fj17Mx6bGB4sbf81EYvfzK5bXvuMfzp9WWeguxGbXmyvZ2+xzGQkEolEGXbaRqac9ZWsc1vWKUFR1P4eZt5sj/nmzPgBsR5A9zDZbQi3WX9Buc2Swn0gAALNTcBgpnqd29z8kznmXHmfLEEg6WD/X+Zy5hu1zrtLNqFMsEwMHHhjdtOMAMumvFmakeB8vjwXI5Tbcy6DwSAAAjUh4Cbl3uYSF6WyvSuOdPD8J5wZZawJoWKxuD47Tm4DKkp2JWROg2Xz3Q7/Lm1K72uVK8/FC+X2nMtgMAiAgMME+K31Hzju++So3lJh9WxzF+7GjmpN5O6JzVuaB+YsK9nCKRW9Jn+PTGae61cuZEu77D85dd/Xk/+suwjKbZ0ZngABEPAcgXzuEbc4ny7t8RlnJiNvjQ71h8O9IYPFU0lBqqdyc2yYTFoSDoTZ5Ubi539IXjgksUh+YDTXbHue6SHqSNbmtTUy6+5JG8rtHl/AEhAAAQcJ5HNcNp3621TsjeFz3e3iXCi5zpg9hnLvOcd4DxLd6Wayx1uPxe6andTmYOnweFRQbo87EOaDAAiQBPitR9nZBDM+0Kk2TKyu0nQg9FI4HD7Tpavv9VTup9OjmtPcD49ON3pJGIMFcCiK0l5TRfasnfVbSH/7NAzl9qnjkW0QaDIC/NaD9KfvDXfpLKm2q9t0IHRqaOzfpj5JzWayyz+sC4u1uGmGmvb3V66YzLWzMf0bfdAa65jy2/PvHRPrT5YXb2myQms7O1Bu2+jwIAiAgDsI5B9m2Eh/B7Ecl6gNQqi1vXc4Gk9lvlsTpFpmvZuUu8jn7jD9iuHk4Dlm7on+7C9Zpmp1KBurFjCLgRdj80/lqcv3FzkztWBptRx5fL49hnL71vXIOAg0AYFCbuHv4936zb+2rmEmNf9QS7AFCq5S7mKxyOe+/ZwZC4fK3f6BzvAo8/nihitku4SssJZ8TbeupLJfJ78UPyVOOFC5QfAFAvoEoNz6fHAVBEDAtQSecak3uwOiFIjtvUqIDv1qKv1j3lwO3Kbc5qxu3F2yb7IrzMVfWtaklg0BqDXKG5cbb6UM5faWv2AtCIDALoFn3PXXO/VUu7Vj8ENLK45BuS2WLdk6aKJkV0KSYWzZ+msaA+EWTfDr7VBuv3oe+QYBDxPgt7/98JTWUiUl3aCDg+ySxaXLodxWS4TxHiTi1HHZ/iLak8+tGuHL+6HcvnQ7Mg0CniaQ/zberzu23fH69GPL63tDua0XCpkeVxrb4u/eHiQyjdf94Nu6Ff57AsrtP58jxyDgbQKypTxElaiEzC2drYAA5VYgMT7BP0wM6nV+UFRpibStFfY8cZfRImvGyfr9Dii330sA8g8CXiOwkY4QnwRX5Fr8bRlKPDQ5KY3MemEt+StCXcT49kL1XImFtMvtYdm8MwU3KnDqjx+8eZhAa7ywudvz3HD7oNwNdwEMAAEQsEKA/2aqR3OBsZJu9Ewt2vl2Ks+xA0rZEc9AuTW8JP3WSwSmEbLZI6KRuE9PQ7l96nhkGwS8SsCgU5tqGUraWh30aSZ6QkNsyqeh3FolRra+ih5EinLFGnBaOfHMeSi3Z1wFQ0EABEoEaqTchk15KLdm+TOx9eeenO9NWNOMCRfMEYBym+OEu0AABFxCwEi5qeNM1vJuz7L1tNWajVBunQIg20dEjV/pHDb01GFo5RKU2wot3AsCINBwAvx38T5id2elSNCnmeymNTP5leTFw8qYJGeg3HpMDSf8UxTVciT69XO9SHDNLAEot1lSuA8EQMAdBLayTK9EU+UHdNvFaw8tTFLbXIif39sTtONk78+0VuM+G1/GRtLaRWDn/tRJ3RqVuCqLdiS4Yo4AlNscJ9wFAiDgGgI898n5oN7CpxR1qJ+5kzMj3vyT+fhrob3IQv+Smr0SDshrAnvHwb5Y+rHFddlcw6wOhhTWUpe018ehD4zPWOwJqYPNXk0Cyu1Vz8FuEPAxga0ldmivlawhsxR1KDz5xfKWzoh3Ibd4409DxypVgH3HIl9u8E9mx49qRknRgc5zo28zcfZqIjWTLv3d4/SS8JmLtu/Gjmn0WNgYwvAZPEvZhXJbwoWbQQAE3EGAX7sd6amIrqbU0qFfRNmZLJcjVmbJ57hs+no8eqGbaFzv6xz7jCu1p/nN2TcOaManvEAHL1xbNdO4dwe2GluhtQcJNvR0GDyU22GgiA4EQKBOBCQd3UpNlZyh27vOhMPh8Esh5a6g9NFB5r9WhW5w/oebl18wrBOIsWPmGulv9a0/sb8IyciBMJTbAYiIAgRAoEEEdraWbzHDPUTrWZRUEyE60H3544xirdT8g5vRn3eYVO9D0YzlzU0aRKseyW5ziYvSgQyrEwbrYaXX04Bye92DsB8EQCCfW0p/ykz8srvdpNpSVGt77yUmlV0Xmtpyijtbj+5Ns8zbo0PhLu1o6aODH93bkj/r72P+p8yfX+3c69sIdl74q6Vd0v3NzmzuodxmSeE+EAAB1xPI57j7melrHzOTb40O9Z+RSW5re1d4aPQPDHsjs7xBjHy7PlueNDCfe/RTTrNi5MksucdoKLd7fAFLQAAEQAAEQMCYAJTbmJHn7uC3lm4xl3rbW6nSRyy/mLz5AM0LzzkRBoMACICAFgEotxYZr57nc3eY/kOSuTn0mamFZ17ND+wGARAAARCQEoByS3l4/mgzy5xWTNIJhNllz+cMGQABEAABECgTgHI3V0Eo3I0dbZE0uEsHUO7m8jJyAwIg4G8CUO7m8r/6Bohd0UyuufKJ3IAACICAfwlAuZvL9yq75O7rnLj1GKszNpefkRsQAAE/E4ByN5n3+a3sR4MdlUX/6SP90S/KqzE3WTaRHRAAARDwLwEod/P5ns/nvp8v7WJ05/6jLTS2m8/ByBEIgIDPCUC5fV4AkH0QAAEQAAGPEYBye8xhMBcEQAAEQMDnBKDcPi8AyD4IgAAIgIDHCEC5PeYwmAsCIAACIOBzAlBunxcAZB8EQAAEQMBjBKDcHnMYzAUBEAABEPA5ASi3zwsAsg8CIAACIOAxAlBujzkM5oIACIAACPicAJTb5wUA2QcBEAABEPAYASi3xxzmd3ML+TyWhfN7IUD+QcDvBKDcfi8B7ss/n89x2fTniTgTHR8eCJ/uaq8swy7ZvpQOhF4KhweHx6NMPJFKZ7lc3n15gUUgAAKuIsDn84WqDOIL+YKZ1oPFhCy2SaDcVTkRDztJIP94YYadHO5rpyUSbfog2DkwziS+XFjfdtIqxAUCINA8BHLpSIh4pQRDvWfCRn9nush30gDLmWkkEAkFQr2aSZzpDQVL9gQiaTOxVhxhWbn53ML0R5Gh7r2c0O3d50Ymr6Yf6G5tsbPF3UnFoyPhzsAeMzoQCg9H/vypwYMVM9V/+fx6NvXBG78kjRl9Xz9Ofuvh/PRVJjJyjnRGINTbPzT27l+vzX67brM3ls/nljOfs8zbY0NhMurW9q7w0Pgf2c/vcFs76vmwczafW0p/ykwIeaeoYIno1OdZT+pWIbeQjPQdJP6jqggGjg9Gr3mTg52igGdAAARMEyAE1eY7xrpym0molsrN57nPxjr3qZnR2jH4Qeaxsq3D51e/ZidOlysVas9RrR39bycXNsz0Pkh9U8jNfShuZymJu7VjkLm9+kx6f7GY/2nuk0i/sAOm5BHxgO74+dvJb3IWDNpez37+wev9HYYtxUDPMHNruVr95vPr965FXtZEGnw5cvOBldqbnFPdj/OrM9G+oBq+QKhvaPStSGzqCsteTU7fLu2Adns6efXKVGzi1V71XvSKK4MvR6z5se75RoIgAAL1JuA/5eZXb1zelW366MC7n80vc9zynU9GXxDeuHT3O5kcMYTAb5TaUXtv5NaO8G+ZxK25xQccx3ELtxPRQVHq6BfGrn9vRWz4reyH/bsx0ydG4l8ucApjjv3h9oZgDJ/nbk2GD1Ve6m1dw++yqXR2mfvh8frjHzhuOZuZ/vuH0Ytdgd3cHOh7779NiHcht3iDGe6pdCRQFEUHOs9HPvpHOrvE/bD6aJVbzt5OfjDWK8oSHej+zdXsEwsVA0nJLuSy7Mhe5am1o//Nj66XcsFxDxZm3t8DUrLCKk9JGvU94LcX4mdFPhUXlX73HYt8qVeny28s3f54rLuNfEYaPtgXuYHtyevrUKQGAm4m4Dfl5leSFw+XX4uHzsbvC41rfi15QZw/1HI48tXmrtfyKzOTZ3fbhXTH+XevZxW90M9WEq+JL10rYsNvfBk5Vm76y57anBk/IFQkWjrGvnhcUkhS7ehgX+Radk1RS+Dz3IxUg09E0k/0CmD+x/TUr0JCahSlkc1iscjnH/+T6RfqDRQVPMfM2RDvQm7uL3vyHHhp/NP70rrF86X4K6I5LefZFcFLevlo8DX+YWrkiFRuySMjLxSLxfyDLyZebCEfkoT3dY59BvFusJeRPAi4hUB+fTFT6rsT//4RC4tCJHl57B0EeqNJ8fb0PU53bLiS0VJCs6lPWfUOQjrQeW70bSbOsmwiNZtOp/+5uG6lPWdynLvwePr1jnI2Wvo/XpKMBC+zYaLNuSsY+e+vj+22xelg//9S6bjezZxYGyhHHRxil7Yq2db53cwyp8sS1XJ4YkbaJpMaQ5+ZWtgievj3dY5dW1LrrOYf35qQjwLQh6IZoc0utUbWgi+1DkMX/l1tsEB8js+lJ7v3i8UieD6+sFfJEW/SCxGyrSH8+XSE8AR9YHzGUgJ6idfu2lpySFt1KYpqHU5tGKYuljcRMBEKnprKeqEWY5hP3AACIOA4AX4z/bvdVinx0pAEW86yK1ZkVWHizkbq12ILl2rpGLlWZXPCnHLzS+zZ3VpJVzSTk5r1KDXcTuQycOqDzz/bk21NpazEwG/OvnFAfJgOnv+EMwS0cXO0bVe4lc1KqXJTrcfe+uMf9vRSp+31JB05IVpRCWnMGCjk5uMXQuRg/6Hw5C0TbuC35t7vFhvFFN39/pypuluJFjFU0TuZUa+cFeZjRyvGl373XZ5+akiz4ooG/UprG6T1lbB2BYo0mX/8xViHdhWAPs1kPVCNIXOEMAiAQJ0I7NyfOkk0qyrvHuLXROefjq38g8QgKXSvxJee69xu5pIZ5ea35987Vs6EWtVDJpZCZungICttnavZ83R6lBRBSlkzkD1VWEu+Vq68qLYptYzRreMUMtFDhKLu5UC1zU00fPdu2989mZb2WssMJg5l/qP29zDzptqC+UV2cLd61D7ILiq6+veSUKhgT2ze7XKlsFkoP5WARgWKwLob3F5hz+tId9vI9bXGVGNKkzSvvvf7iIf+3vtbRjnBU0EcJ0CgWQgU1lKX9HvMWy8k7b5A+O0s0yMqDO3Iu8iMcucy0a7ye/TAYOKB/O3HfzPVI9He3TduS98f75Kz1TQ9vJIYIImp6jHxsCh+ahqvoQO0ZLYaEdtuUP0pZSVLKdu6FQJFOsWirM+EotoupdY0uuTFx7e5xMXyjAH9Pgn+2eyEtN4YiqRlHSRipC4JqbOvqHbp16xyF/mHiUFt6aZoB+q5tqD9mBxy6Gs3EkuNwy1DyTVbucVDIOBJAs+/jh7ReX1QlO1+O9lUHtvxSLGaUG4hS62/Tm0ovkiWN5rLbxSzI9bFYlEx0+9gJP1MXj0QbBbfzkcmM88Vt60mBsSqTeXdRvdEbuvWlsSxgMoj1L7OyzdWJdGrTIE2qBAIRhMBfjneJyRSCrSdZZck6RA37wb5tesje6MDA3G9eQDby/GzkrgpDyg3vzjVIzVaftQztagPSCCmUYmsRBjsN0ItxORoQKsfqGKXO3/DLOcoBUQGAu4moN9pV/pix97MIX6FPUtUCdT6re2AMVRu/nlmcnfur2o1fCfLHJe/evR6dBU2bmWZXmkEvUxWa55aYS35qzKEliPRrxUDBfzT6cuK5r9yFpvChCKf526Iy4CUvrqekY1bi7PZBVvpvtic9Rbts9lxabu4ZTDxUE+ZNjLRk+XaiGHX+tr0qGyaxYlo5qkyt+46o1JtEhCbqtkQ2VHUAsmYKEq1ABOP1yiYX515x3AVAamlDT6iO34+OfOjXqmsESpECwINJLD5VeQwobHK/0I7H+zIJlEpu3JtZthQuQVlVesqL+Y5dlDWyqV7mOy2+f/6Z4tTL0sRHRxK/qiRG2E23LFIWjnjWDCViC94McGZGkou8lvrP3Ac93BdOflcNge+FP2+Y9F/2hlDVvYOq/ZkVPIv1tcM+9ULd2NHpcWu5VdJ4674SkoN+5VP3COcZ20SX7FUGgfIx+Xh40xW0WfUsHwjYRAAAXcREL5akr85KsfEZ8/mLJd+NU3Rp+IGXazmoi0Wi0bKLfRAqg8TClJayRp16ELyB/O6rdJbTrUeZ+6pv2Cf3Y4cLNcTVNWOX2L7ZQuLtR6L3TWn2zrA8g+TI+RQfCmrhjqqFd/OPeY48XVAKS6deWRP52MvlskaZ0Sl29l8P7OWtXU6/4ybeScsX4yFDobfmeEUC+HpmWSk3KaHzPUSwTUQAIEmJSAOTQqCJgtYe/PLqgJHRlK6HaxWqBopt/C5rWp7RZBSIXuW23kq83e0XrBCz7x6t+dGalimiXY6N+Tw1HxprKPyWIRjZZub0u5jEBaWMc6IMI4geuJo7K7h5DfBrkYHSkvQ34zHJoYHS9t/TcTiN5VL9xjaqDpcIgCxMNnNMCXcAAIg0IwEZJ3bxNtjL2g4aklQEV7g5Wct9kYT8agF9ZVbeBXSByO3lc0fQUrF/Flt56m0QbVmExdWE78st7gDp+LKSUv8s3RENoXX1CIealCIc2qONNZRIgJZUGVCXyDMLsvuKh+KE9FNfJCgHOQ+PDrtu9nBKvUisWhCudVKGc6BAAgQBMQBSvLVQYYPvDG7aaZbWTblzXgyMmGFcdBAubcXro50dwRD55mMclxZOcjdYrmdp2woa79g+Uf//b9jv49Er2TWlY1J5SC3dlvWGMveHfxS/JRsGJ+iTOioZgKKueWlz560lDuXjvW1t1KB0zEV+NIkvDrILc1F1UdQ7qoRIgIQ8DmB9dlxchtQUrR3w+Y0WDbf7fDv0qb03ix8feXWj0U5yG25nSdf9qtMRqu3XM8alUHul6cWld0EenEorqk1uKn24dQjxZ0mTyg/udZRbpNxlm7z8iC3hWzq3Lo7v/D75Kh05r70v85OwdJJE5dqRUDqNhyBgFkCTpRI2cIpakmrfpMsSVu2tMv+k1P31SdvSZ6ycFCFcjswyC10gJN0VBcvM8qSsu1ubtVMnXjFb8dJ61Qnx+nEIrmk/OTaEeX2+iC3hJHmQT73iFucT5f2+Iwzk5G3Rof6w+HeELFUO+kntTCUWxOuuy6oOQ/nQMCYgDPlmP8heYHYIEolWaO5ZtvzTA/RiLA2r81UJuwrtwOD3EXl6Kw9JavFILd0662K86obO1fNbzWN+F0fK6O13PlhqrDU+6Z8jsumU3+bir0xfK67XTFsUfGJ6V8od709aDM90x7FjSAgIWCzwMkfM96DRHe6mezxKmY0yw0Tj20rtxOD3GrT0yjq6Pis7vaaovFCSDnIXfWCWfxi/JSyOVfd2LlyNLpU6qpeL0UZreUZ/gJJFwT4rUfZ2QQzPtAp+8ZP8i8qPaADoZfC4fCZLl19h3K7wL1mTJA6F0cgYJaAmdJl6h6DFaJK723NbaBlz1Yzo1nbVtvK7cAgN8+x/SoNqbPxZYvfYKsMcussxKYNg7ii3lVOD7Kc1n4fxMMaQbXpaRRVtco2zSA3v/Ug/el7w13yj+cV/7V0IHRqaOzfpj5JzWayyz+sCzuuYYaaRtHDaRAAAUsEdjamf6P/JtJYx1TcoKv84rK8eItJK+0qtwOD3OJXT5JX89HYvHLmuH5ulIPcuouf60dWvqphm9Vv3iQp1SLOYrHYFIPc+YcZNmK0RGhre+9wNJ7KfLcmSLUEcLEI5ZYBwSEIgIBNArKxaolK7R68GJtXLC8t31/kzNRClROl1c23qdxODHJvpCO7e4dKkOwbnVbAUDe9crYWg9yb8zHlRhjqH7VXzDD8VY5GUxSlugC7YVTkDcpovTXIXcgt/H28W79229Y1zKTmH2oJtoADyi2gQAAEQKA6AsKO0hKFIg5U9uuUfkisckN1JolP21Pu2g1y25iuVYNB7qJs79FdZ9mwTQRdFLZcIzxPUaHx2XXiJutBbw9yP+NSb3YHVIZMBEh06FdT6R9NDlFAua0XIDwBAiCgQUD2TbbwVhICtKxJLfuQWK1RrpGU1dP2lNuBQW6VVjtFUTa+uarBIHdRKYclV1kfgBe9IW65Jji9FDD+LlCMQjXk5UHuZ9z11zv1VLu1Y/DDOVO7vO+xgXKrFhKcBAEQsEVAtg6a5OVdPpAMY8vWX9MYCLdliOIhW8rtwCC36jdXtjZAdX6QW2O8tKqZyblMtEvh9uq/FvDuIDe//e2Hp6R7m0n50MFBdilvZpVBsVC7Urn5/OrXV9/7fcRDf+/9LbNak8E50VUIgYAXCKjtWyF9UYlTx2X7i2hPPnci43aUW6W5bHXqlvo3Vzb6FmoxyK2h3GGWs01ctatcdLnteD07yJ3/Nt6vO7bd8fr0Y6szFd05Q01lTx3pv74bj9Q39bFdTvEgCHiVgEyPlf+te3uQyDRe94NvB1jYUG4HBrmlw/h7LGz1LdRikFtduatocss+zN/Nr6SbxaYnlb36VX9jZtMSa4+pAiH/JcytDKxI1JVt7mU2rFwYgMysK8PV1FMVfsEJEPAuAfUvhMn/2tISaVsr7HmiD9FokbWqcdhQ7uoHuVW7ym31LdRikLuoqtz7++LfWeu6FXwj+05g1+XBiwnO4mfrQoSVgGcHudU/KxD/F1qGEg9NTkqrsCj9KscOxChLoSoqX2QyFsP51Zl3jD54k9rZ6CO64+eTMz/aLO0W6eB2EHA9Adm8M+X/Z+DUHz948zAp3JOZ57X9B7Ku3NUPcu/cnzpJrOla5mCrwV0s1mKQuyQBd2NHCTeULNTa0cu41Kl1MFjZ5FUzBaVQWd+rTTPyWl7gv5nq2acs/uIZq4Mve8bmOXZAjEQZaoxy15Ik4gYBEKg9AbV3uPL9Ipyx2WVoKR+WlVs5yE33s5yF6oVaT2nL2alvNy3ZXb65NoPcpaiVX4XZ/khapb5Gd78/Z/htsjEO7w5ypyO6/cd2B1mfZqInhP8elQCU27hQ4Q4QqDGB0vLGX1778N2J4UFix6BgqDc8MDweZdhU+ptHW85urFV1jlA8RCAAABovSURBVFT7TVVeMeVTTm/oqWq9VeVWDnJb7INUQbC/O3ZnS9U6g5O1GeQuJaqM2V6bW23DOJvVFAULZceANwa5VQcjJP8ENpXbsCkP5VYUIpwAgfoRyK9lU8yl3g69T0F33wSB44ORKzMLj22MmdUmO2pvcslLSzhwpD/VOBNWlVs5yE1ZWfWM38xMHpP6raXvz/9jrwFao0HuEjR+c/aNA4IvSgFbyq0yg7p9kF10pDh6dpDbWLmp40zWcp1btlywxHl7B1Bu4xcC7gCBWhAo5BaSkb6Dlf/E4wNj/zbFJqdvp0t/t6eT7AfR4T7FfkEH+yb+Nve42vlAzuRHto+I2gumdK4GG3qq2m9RuZWD3BRl4T2rXAk2OMQu2WpvF2s2yL3LaXNm/ICkirF/fNbiJ665/2HC0tHyfcciX25YGFlQddnuSc8OcpfqRd/F++QTHST/CPRpJmtx9IRfSV48LIlEeQDl1ilQuAQCtSLwjLv5h75g6XVKd5x/9/q8Rmc4n1/Ppv50MSR571J06LX4/BNn3ppVZVBtnFf+kql+NWuzJlpTbpV2Xskbr8SXnptIMDcX65M4he6amHlk1yW1G+TezYpi7RRrDcHCxu0/SHsX9nWOfcZZXFpEm6pnB7lLWVIORsj+A+i2i9ceWigZmwvx83t7gnac7P1Zqyy6ymE1q+BpuwJXQAAENAkIb8J9naOJBeMlEQu5LDvSKZ3BGjzHzLlAvNXmVlfeLeVfB5bo0OQou2BJuZXtvF2zA6fii0av2cLjmbckS13Sx0eu/b8q+o2Vb/99PVPfGJkhy77eIf/w2sU2sqZhfqGYQm7uL/3lOmbFr87Kttrsd/VB7lw60tt1Jrz31z80+haxlNf48EDlSvn3dFf7Lwy3Mc2nY717Eb4yNPqvQnRvjQ7178bWG46mc3pki0We++S8hE+Fk/h7qJ+5kzPjTv7JfPy1Sj099C+p2Sua308H+2Lpx45VnvSziKsgAALFylvU0guQzy+xg7L3Q9triRWLnZ7O4y+spS5pLyBlaw1Qu0ZaUm5lO6/yojWYTadQMvqFsevfVyHbxaLKIHdPbN5iF6sBta0ldmivJVfKqMmNXxSZpQ72RW4419ouGa3S+aH+JVUuHQlVnGTmd8CEcutPDKcoKhQxUu5iUcZW1bZD4ckvlvVmmRZyizf+NCR0bewORjyZHT+qGl35JB3oPDf6NhNnryZSM+VBtnucXhIGRQSXQQAENAlU5iNbn8yUf5gckWqk1X44TaOqurB9N3ZMo0vPxhhfFaZYUW7lZObWgbf+tbfcLA2emspqTCRQKFn1sq06yL3v8vRTM200K7Tyy8kRQvkMLec3FhKXpV0LJ0bYe6bajhbsUnZ+aH3J7VrlLhb5tduRHrJPQ1Vu6dAvouxMlssR9bx8jsumr8ejF7qJj8uESr1ydqFqxMJJOnjh2qrTBceCM3ErCDQpgcpn0LZW2VJOiqK6ohmDzrzag9Tag8Rku84xAy0ot7KdR/ezKxtfRo6VxyRUVY3fWPh0gtzG0aHpBipvZ5ufEhmR5HN3mP5Dwmueol8YS36nNhd+Z2v5FiO2/0pt9GBfJLng0Iw0iZ3Kzg+tz82fc+m/s3t/Vz4Y1VLKnw3FPi7fdSObM5jVvcOl/+PKVGzi1d52su7Z1jX020hs6koplr+nOTPzHopFSUe3yFg1RLfv9vq/FFLuCkofHWT+a1XoBud/uHn5BcM6gZgKZq5JShcOQMARAsSAZiDUd+H3bMbSyoj5h4kh6QzfunZHayJQ3/rTVu1EMw3jC+aVW9nOaz3O3Nsp8nnus7G9CQUH+yb+z0x2iSv9LWRS//5W/xHiBXqwJGTGMxSMjS4WlatlHRhMPKhRw4nf+i4VeZnoNm/rGn4vcevuYjmf3LKy/UfRHa9E2K9FLTGTJ/P3KDs/1Ae55THyGzMT5BJ9onZZ/wZRUiNuOTwxY7eGUq7xDPcQrWfRLBMhOtB9+WPlGyH/4Gb05ya+Gy2ncCiasby5iZwtjkEABKQEFOtZ0X2xOQuNZp5j+wn9KP2vuuJfdZtLXCTkoDyQam1GrZSTrSPzyq1s5x2LpDfKifJ57ob4rZ7K67ata5hJZdeIDk9bxooP7WxM/4YcBaGPTWY2ayTcu6k+W81cjUgqIir5pCg60HVx8mq6pkOnys4PSn2QW+RVCWl19VBU20jSQoVYOlPDgRmV+dxS+lNm4pfdik86VTGXTra2915iUtl1oaldyWTld2fr0b1plnl7dCjcpR0tfXTwo3t2P0ysJIVfEAABGYFCJnpIJrz0wchtC9PMVGIwnogjs6Imh/xPmT+/2rnX+RfsvPDXOWdapBaMNa3cynZe669TG0TPan4te/Pj6EhY7MwMhPqGJv7E3rjD1UBUxUZVa0f/5E3OQnmwgEd2a2ndvtkEExke6BWzSdGBUO/A8BuxD//vbHZVrSNdFkuVh8rOD61BbrWE1Lt6KIqysnfZ1p1Yt/BBtu0l8NTMK+Zz3P3M9LWPmcnSZPUzMsltbe8KD43+gWFvZJY3nKsIqlqCkyAAAlUQUN25z9oedMp99szMfq3CZmuP5nOPfsppthysxWX1brPKrWznWVyu3Kph5u7Pb+Z8NzFY2fmhNcitylA5abPSqjXbdJY23Ou1ZpBqZnASBEDArQSUO9NbaWOUcuVy5W4keJPKrWzn7Q5yN9J0n6atXMbO3CC3iEsyRF2R7dKvuWa3pNVufYBctAMhEACBJiYgX+ua7py4uWqlp0xlJ4JeJouhrVKZMancVbbzmrh01jtryr3aTA9yC6ZKR6lJ7Tb+JFHa4D785uwGJncJYBEAARAgCZRWXJiKjAz0D43F/pZZtTim+XR6VLqWGmW1lULa0lxhc8qtHOQGwcaUA+VebVY7oMp2b2enTklnR+7pt8FXifza9RFxXbl6bEPbGMxIFQRAoNEECvMx2ZpK9Kn4Uk0nIjc6y+bTN6XcykFu6+088ybhTh0Cyr3aLA1yCzFrr56v1+zezDKnxdmiBgvnCWkhAAIgAAJWCTydj71IdghSlJlltq2m4tX7zSi3cpDbVjvPq4jcZLey+0g2w9+8sZqb1tHB859wahVbaYP7yEjKyp4g5g3DnSAAAiAgmU9TVnBMhiVKhRnlxiA3AayRwZ2N1K/JdcsoqppFheTzR4jqrep6QBuZ6EmhwU33MNltNXlvJB+kDQIg0BwEpPNpSu8mnQW2myPL1nJhQrkxyG0NqeW7+a3V+5nS5heZ+7qfg/MPEoMHCH2lKL2ebRNmVPYDkMRZPmg5y65IdZlfYc+KSxGiwW0CL26pIYH86sx7F/rD/RfetbCWA/9k/uPXB8L9A2NXs7VfeKGGubcZtWeg8Y+/GOsQXzellaTPxhfQVCD8bqzcGOQmcDkefMbNvD/QITSk27rf+EJj9wt+O8tIlx03mE1mwlZlnIKIH5+YXSO0+0k6ckK4ptR1E2nhFhBwjsDOPeb47n+NlZG7tWRlIez24dQj56zxSExegcavTo91Cm+bUqDjUrI+a215xJNmvgrDIHftnCnsOU+W0tD47LpKksr2cXCIXar600ZltBVbiP5wPr/0cb9YA1btS1cxGadAoFYEiPW5LOwXw7HhveIdCLPLtbLNtfF6A1p+NTXWUXkLlX6D55i5J0QrwrV862qYYZtbOcjty+pqLZyyc3/qpLCGqFBUVd8pyjHp9kF20cqiBpoZkHaDC2ZQFFXpEpeqOxrcmihxoW4EvCFCdcNhLiEPQOO3F+Jng8J0Gsi2pmeNlPv519EjYmur9F6nB1nOEcnQtMkvF1YTA0QRrWjmwaHkjzICfC49Ka4TTlHUvs7LNzQ61WWPmjmU9IRXzCi7ujwNTdJLX+XIuhlzcA8IGBLwgAgZ5qHuN7gdGrntZPn903k5UZNdkutOvgYJ6it3YWP6t9I5URRloXOqBvY2U5Ri3x0hl8ovH/LfXx8jd5umg/1/cXZrGu1md/v5T/7rHyNHKvZVP7LeTP5DXhpHwO0i1DgyOim7Gxqfu8P0HxJeNcHwOzMY29b2ppZy8/kcl70Z6yc7Lnahtrw8ObPw2Hf7fGgjtH1Fpc2t6APP//jV5MtEp0drx+CHzsp22XzpEiuV/x75Lxrctn2NB50l4G4RcjavjsXmYmhS2W7rnvjPJUiMruNJ5S7k5v59pP9Mb0h1XUz5a7zUcd7edSYcDofPX058u62bDC6qEOAX46cCFax0oGuEubVEfKvC5x/fvTJyguhQPxSevMXVZlM56SorFaMkv+b2I1HJJ06BgNMEXCxCTmfVufhcCo3Pc7cmw5XWNn1ihL2Xw4Q0I7eTyp1LR0KSd7XpA3ogsWqUEq4rCPBbc+937ylza0f/mx+lMotc6W85ezvJjHTt7dxecgMdusjMrtRyfoFRs9vsHqCKXOIECDhOwKUi5Hg+HY3QjdAkY9t06LX4PKaRm3I6qdzPFuPnhDYgRbW2d50utajlf4pGOf2zi9e+RyXJFG/5Tc9WbzOD4vfcKnUluuOVCJvm6tB3pFxuUDRn37HoPzflxuMYBBpEwI0i1CAU5pN1HTRStls7Bj/IPEbXrVl3kspt9hnc5ywBfou7859TkeGfd7ULS7IEQ32/HHv3r9dmv12vTfe4WhaUKw5WpFs5b07teZwDgToRcJ0I1SnfVSXjLmikbNdwHLAqYi5+GMrtYufU3zT1Zvf+HmYeleH6ewMpahJwlwhpmumuCy6CRsg2/cJo4r6Jge2NbOo/WPY/M49qOWboLofpWQPl1qPjv2uFtdSltkpLe+/38JuzGwX/oUCOXUzARSLkYkoy09wCjZDt4Dkm85MpKd41nv5lYhXvopJfodyy0u37Q/5h+s9j4b3vC4Kh8G8/xpwR3xcK1wFwiwi5DoyeQa6AJsg2Heh+M2X6i21+Od5HUdShaAbCXfYxlFuvqOMaCICAGwm4QoTcCEbPpsZDK+TmPixPyLW6LsXeBsf4iEnwL5RbQIEACICARwg0XoQ8Aoo0s8HQCrm5v5SX9trXOfaZxXUpNtKRYxQW8CS8CeUmYCAIAiDgCQINFiFPMFIY2Uhogmwf6mfumJiPJjGe37g5doCmKNXdmCR3+ucAyu0fXyOnINAsBBopQp5l2DBogmzTwfBbH7GW/j5iom9eCh8pL1gViqRznqXvsOFQboeBIjoQAIGaE2iYCNU8ZzVMoDHQBNmWfbJi43AA21QKxQPKLaBAAARAwCMEGiNCHoGjZWYDoDko2xjllvgVyi3BgQMQAAEPEGiACHmAioGJ9YbmqGxTFBVmOYMc+ugylNtHzkZWQaBJCNRbhJoCW52h7dxjjgvLOdvoG5c/EoikTa3Z0hS+MswElNsQEW4AARBwGYE6i5DLcm/TnDpDI5KTi7CdY0wsl7gdyi3BgQMQAAEPECBUwUJTjGPDe5rhSxkANA+UbLMmQrnNksJ9IAACbiEAEbLhCUCzAc2tj0C53eoZ2AUCIKBFACKkRUbnPKDpwPHaJSi31zwGe0EABCBCNsoAoNmA5tZHoNxu9QzsAgEQ0CJQVxHi8/nqNqjiC/kCr5UV4rzFhAr5vJlYhQTqCk1IFYGaEIBy1wQrIgUBEKghgbqKUC4dCRGzoYOh3jNho78zXe3lBTt3nzO5+BeRUCDUq5nEmd7dTXgtzM0ru6Ku0GrofESN/blRBkAABDxIoK4iRAgqIeBWgtaV20zsUG4PllynTEab2ymSiAcEQKBeBKDcNva8rCu0epUEv6YD5far55FvEPAugbqKENrcuz0AvvwI3q3/I1But3oGdoEACGgRqKty59cXM2nJ3z9i4Tbd/uxAbzRJPHGP2zIzl6yU0GzqU/bKVGzi1d522dKhdKDz3OjbTJxl2URqNp1O/3Nx3UysAsO6QhNSRaAmBKDcNcGKSEEABGpIoMEixG+mf3dYV7pbzrIrlmRVDmtnI/VrQrpbOkaucdamkstjLDYYmsIenKiCAJS7Cnh4FARAoCEEGi5CO/enTu7X1e4TkfQT+2z4B4nBA2L89Cvxpef2Y9t9suHQqs0AnhcJQLlFFgiBAAh4g0DjRaiwlrqk32PeeiG5ZrPZzW9nmR7xqzK6beS63agIfzYeGmEMgtURgHJXxw9PgwAI1J+AG0To+dfRIy1is1gZok8z2U07bPiHqZEjYny245Gl7QZoMpNwaJcAlNsuOTwHAiDQKAKuEKHtFfa8vnQfGJ+xId38CnuWiLfqIfOKk1wBrWIMfqsjAOWujh+eBgEQqD8Bl4jQ5leRw4TGis3kSqjlPLuybRHPk3TkROV5iqKqGy8n03YJNNIkhO0SgHLbJYfnQAAEGkXALSK0mWVOi+PRhN5Wgi2HI19Zanbza8kLxJxy+lR8yeZgucI3boGmMAwnrBOAcltnhidAAAQaS8A1IsSvXR9p09XutkupNfMblsiqAkdGUg+dEm58FdbYMuts6lBuZ3kiNhAAgdoTcI1yF4uyzu1KY1v83d/DzJvtMd+cGT8g1gPoHia77ZhwQ7lrXy7rlwKUu36skRIIgIAzBFyk3EXZhDJRsoXQgTdmN80IsGzKW9tZ1rGe8hJ2N0Fzphj4OBYot4+dj6yDgEcJuEuE1mfHyW1ABcUWAuY0WDbf7fDv0qb03rQL3QXNtNm4UY0AlFuNCs6BAAi4mYC7REi2cIog2ETgyGTmuX6zW7a0y/6TU/d3nHWBu6A5mzffxQbl9p3LkWEQ8DwBt4kQ/0PywiFCqJVBo7lm2/NMD7GcqrV5beb86TZo5qzGXaoEoNyqWHASBEDAxQRcJ0LGe5DoTjeTPd56LHbX7KQ2815yHTTzpuNOOQEot5wIjkEABNxOwIUixC+xZ/UXMtdeU0X2rJ31W0x4zIXQTFiNW1QJQLlVseAkCICAiwm4UYR2NqZ/oy/dGuuY8tvz7x0T+9ctL95i1k9uhGbWdtwnIwDllgHBIQiAgOsJuFOEZGPVohgLoRdj80/lcOX7i5yZWngmv8eRY3dCcyRr/osEyu0/nyPHIOB1Ai4VocJa8jVi6VJBsIWAyn6d/FL8FLH4ijMbeqr616XQVG3FSQMCUG4DQLgMAiDgOgKuFSHZN9mCZAsBWtakli3BptYod4q+a6E5lUE/xQPl9pO3kVcQaA4C7hUh2TpogmILAckwtmz9NY2BcId85l5oDmXQT9FAuf3kbeQVBJqDgItFyHgPEnHquGx/Ee3J5454zcXQHMmfryKBcvvK3cgsCDQFAVeLkEyPhda2ENjbg0Sm8boffDvhNVdDcyKDfooDyu0nbyOvINAcBNwtQvzDxGCLoNNqgdISaVsr7HniLqNF1qp3nLuhVZ8/X8UA5faVu5FZEGgKAm4XIdm8M6V4B0798YM3D5PCbbiwedWOczu0qjPopwig3H7yNvIKAs1BwPUiJP3WS6ncsjPmNhOr0neuh1Zl/nz1OJTbV+5GZkGgKQi4X4Rk66vIlFp26PiGnqpOdj80VbNxUo0AlFuNCs6BAAi4mYAHRMjE1p97+r03Ya3mvD0AreYMmiYBKHfTuBIZAQHfEPCECMn2EZG1s4XDWmzoqVoQPAFN1XKcVBCAciuQ4AQIgIDLCXhDhGR7dwpaTQZajkS/fl4f2t6AVh8Wnk8Fyu15FyIDIOA7Al4RoZ37Uyf3k0ItD4urstTeh16BVnsSTZAClLsJnIgsgIDPCHhGhAprqUvaW3/SB8ZnNuvmOs9AqxsRDycE5faw82A6CPiUgIdEaPtu7JjG/mH0aSZbP+EuegiaT4u1hWxDuS3Awq0gAAKuIOAlEdLag0Rlx8/asvUStNqSaILYodxN4ERkAQR8RsBbIqS+9WeN9xdRlghvQVPajzMEASg3AQNBEAABTxDwmAhtc4mLQcnkNLrt4rWHfH1ZewxafeF4LTUot9c8BntBAAQ8J0L8T5k/v9oZoMvyHey88Ne5XKHebvQctHoD8lJ6UG4veQu2ggAIlAh4VYTyuUc/5fJ1bmtXioxXoVXsxy9BAMpNwEAQBEDAEwQgQjbcBGg2oLn1ESi3Wz0Du0AABLQIQIS0yOicBzQdOF67BOX2msdgLwiAAETIRhkANBvQ3PoIlNutnoFdIAACWgQgQlpkdM4Dmg4cr12CcnvNY7AXBEAAImSjDACaDWhufQTK7VbPwC4QAAEtAhAhLTI65wFNB47XLkG5veYx2AsCIAARslEGAM0GNLc+AuV2q2dgFwiAgBYBiJAWGZ3zgKYDx2uXoNxe8xjsBQEQgAjZKAOAZgOaWx+BcrvVM7ALBEBAiwBESIuMznlA04HjtUtQbq95DPaCAAhAhGyUAUCzAc2tj0C53eoZ2AUCIKBFACKkRUbnPKDpwPHaJSi31zwGe0EABCBCNsoAoNmA5tZHoNxu9QzsAgEQ0CIAEdIio3Me0HTgeO0SlNtrHoO9IAACECEbZQDQbEBz6yNQbrd6BnaBAAhoEYAIaZHROQ9oOnC8dgnK7TWPwV4QAAGIkI0yAGg2oLn1ESi3Wz0Du0AABLQIQIS0yOicBzQdOF67BOX2msdgLwiAAETIRhkANBvQ3PoIlNutnoFdIAACWgQgQlpkdM4Dmg4cr12CcnvNY7AXBECgcDd2tIUq/dGHopmCSSCriQG6/BDVPpx6ZPKh5rkN0JrHl0UodxM5E1kBAb8Q2Fr6ZLiDpuiOi1cWNs1mmn80G+kNUHTwFDO3yZt9qnnuA7Tm8SWUu3l8iZyAAAiAAAj4gQCU2w9eRh5BAARAAASahwCUu3l8iZyAAAiAAAj4gQCU2w9eRh5BAARAAASahwCUu3l8iZyAAAiAAAj4gQCU2w9eRh5BAARAAASahwCUu3l8iZyAAAiAAAj4gQCU2w9eRh5BAARAAASahwCUu3l8iZyAAAiAAAj4gQCU2w9eRh5BAARAAASahwCUu3l8iZyAAAiAAAj4gcD/B0unMTTY1aOTAAAAAElFTkSuQmCC)projection of vector.png"
      ],
      "metadata": {
        "id": "HbUtir5f6eAo"
      }
    },
    {
      "cell_type": "code",
      "source": [
        "a = np.array([2, 5])\n",
        "\n",
        "v = np.array([8, -6])\n",
        "\n",
        "# magnitude of \"v\" vector\n",
        "magnitude_of_v = np.sqrt(sum(v**2))\n",
        "\n",
        "proj_of_a_on_v = (np.dot(a,v)/magnitude_of_v**2)*v\n",
        "\n",
        "print('Projection of a vector on v vector = ', proj_of_a_on_v)"
      ],
      "metadata": {
        "colab": {
          "base_uri": "https://localhost:8080/"
        },
        "id": "NaEGEaXS6kck",
        "outputId": "f6cae8e2-1397-4465-801a-3273a3e2efc5"
      },
      "execution_count": 11,
      "outputs": [
        {
          "output_type": "stream",
          "name": "stdout",
          "text": [
            "Projection of a vector on v vector =  [-1.12  0.84]\n"
          ]
        }
      ]
    },
    {
      "cell_type": "code",
      "source": [
        "\n",
        "a = np.array([23, 45, 62])\n",
        "\n",
        "v = np.array([45, 82, 67])\n",
        "\n",
        "# magnitude of \"v\" vector\n",
        "magnitude_of_v = np.sqrt(sum(v**2))\n",
        "\n",
        "proj_of_a_on_v = (np.dot(a,v)/magnitude_of_v**2)*v\n",
        "\n",
        "print('Projection of a vector on v vector = ', proj_of_a_on_v)"
      ],
      "metadata": {
        "colab": {
          "base_uri": "https://localhost:8080/"
        },
        "id": "NnlugMBe7ETp",
        "outputId": "0c2c56f6-e99b-40a5-e916-a683672a2981"
      },
      "execution_count": 12,
      "outputs": [
        {
          "output_type": "stream",
          "name": "stdout",
          "text": [
            "Projection of a vector on v vector =  [30.18242937 54.99909352 44.93828373]\n"
          ]
        }
      ]
    }
  ]
}