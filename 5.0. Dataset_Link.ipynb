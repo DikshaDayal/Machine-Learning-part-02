{
  "nbformat": 4,
  "nbformat_minor": 0,
  "metadata": {
    "colab": {
      "provenance": [],
      "authorship_tag": "ABX9TyPDmCnirqNvc9gz15FPvGbW",
      "include_colab_link": true
    },
    "kernelspec": {
      "name": "python3",
      "display_name": "Python 3"
    },
    "language_info": {
      "name": "python"
    }
  },
  "cells": [
    {
      "cell_type": "markdown",
      "metadata": {
        "id": "view-in-github",
        "colab_type": "text"
      },
      "source": [
        "<a href=\"https://colab.research.google.com/github/DikshaDayal/Machine-Learning-part-02-/blob/main/5.0.%20Dataset_Link.ipynb\" target=\"_parent\"><img src=\"https://colab.research.google.com/assets/colab-badge.svg\" alt=\"Open In Colab\"/></a>"
      ]
    },
    {
      "cell_type": "markdown",
      "source": [
        "# **All The Dataset which we will gonna use in this Series.**\n",
        "\n",
        "---\n",
        "\n",
        "\n",
        "\n",
        "---\n",
        "\n"
      ],
      "metadata": {
        "id": "sdyQ5qzisz02"
      }
    },
    {
      "cell_type": "markdown",
      "source": [
        " https://drive.google.com/drive/folders/1RjK30edxWBlkK37w-9gY1JmmWFN4kUkO?usp=sharing"
      ],
      "metadata": {
        "id": "iN0HOizftBlQ"
      }
    }
  ]
}