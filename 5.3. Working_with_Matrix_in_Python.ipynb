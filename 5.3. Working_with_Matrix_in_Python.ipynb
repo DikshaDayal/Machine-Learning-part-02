{
  "nbformat": 4,
  "nbformat_minor": 0,
  "metadata": {
    "colab": {
      "provenance": [],
      "authorship_tag": "ABX9TyMvZGJTheho6r5qjMBSJnFi",
      "include_colab_link": true
    },
    "kernelspec": {
      "name": "python3",
      "display_name": "Python 3"
    },
    "language_info": {
      "name": "python"
    }
  },
  "cells": [
    {
      "cell_type": "markdown",
      "metadata": {
        "id": "view-in-github",
        "colab_type": "text"
      },
      "source": [
        "<a href=\"https://colab.research.google.com/github/DikshaDayal/Machine-Learning-part-02-/blob/main/5.3.%20Working_with_Matrix_in_Python.ipynb\" target=\"_parent\"><img src=\"https://colab.research.google.com/assets/colab-badge.svg\" alt=\"Open In Colab\"/></a>"
      ]
    },
    {
      "cell_type": "code",
      "execution_count": 1,
      "metadata": {
        "id": "ah23wJWR7UJD"
      },
      "outputs": [],
      "source": [
        "#Import the Dependencies\n",
        "import numpy as np"
      ]
    },
    {
      "cell_type": "code",
      "source": [
        "#Creating a matrix using numpy\n",
        "matrix_1 = np.array(([1,2],[3,4]))\n",
        "print(matrix_1)"
      ],
      "metadata": {
        "colab": {
          "base_uri": "https://localhost:8080/"
        },
        "id": "F-bUUoK_8IHF",
        "outputId": "4afcc405-60ec-430a-9fa0-f273cc5aeb77"
      },
      "execution_count": 8,
      "outputs": [
        {
          "output_type": "stream",
          "name": "stdout",
          "text": [
            "[[1 2]\n",
            " [3 4]]\n"
          ]
        }
      ]
    },
    {
      "cell_type": "code",
      "source": [
        "#Dimensions of A Matrix\n",
        "matrix_1.shape"
      ],
      "metadata": {
        "colab": {
          "base_uri": "https://localhost:8080/"
        },
        "id": "pzFaMUX18L1Z",
        "outputId": "72beede3-dc79-46cf-edbb-738ab51023c4"
      },
      "execution_count": 9,
      "outputs": [
        {
          "output_type": "execute_result",
          "data": {
            "text/plain": [
              "(2, 2)"
            ]
          },
          "metadata": {},
          "execution_count": 9
        }
      ]
    },
    {
      "cell_type": "code",
      "source": [
        "matrix_2 = np.array([[10,35,45],[50,64,80],[20,15,90]])\n",
        "print(matrix_2)"
      ],
      "metadata": {
        "colab": {
          "base_uri": "https://localhost:8080/"
        },
        "id": "rMMIb9uu8bma",
        "outputId": "4396dadf-4227-45b4-ab11-f414b91eebf6"
      },
      "execution_count": 10,
      "outputs": [
        {
          "output_type": "stream",
          "name": "stdout",
          "text": [
            "[[10 35 45]\n",
            " [50 64 80]\n",
            " [20 15 90]]\n"
          ]
        }
      ]
    },
    {
      "cell_type": "code",
      "source": [
        "matrix_2.shape"
      ],
      "metadata": {
        "colab": {
          "base_uri": "https://localhost:8080/"
        },
        "id": "z910PP3X8tsI",
        "outputId": "bf540ff3-6805-4209-c76e-4a6da0b96b2b"
      },
      "execution_count": 11,
      "outputs": [
        {
          "output_type": "execute_result",
          "data": {
            "text/plain": [
              "(3, 3)"
            ]
          },
          "metadata": {},
          "execution_count": 11
        }
      ]
    },
    {
      "cell_type": "markdown",
      "source": [
        "Creating Matrix with random Values"
      ],
      "metadata": {
        "id": "1k6G3KY58zVj"
      }
    },
    {
      "cell_type": "code",
      "source": [
        "matrix_3 = np.random.rand(3,3)\n",
        "print(matrix_3)\n",
        "matrix_3.shape"
      ],
      "metadata": {
        "colab": {
          "base_uri": "https://localhost:8080/"
        },
        "id": "EFhwQuJO8wm4",
        "outputId": "0cdd61db-4a4f-4205-bec8-50dca0c35879"
      },
      "execution_count": 12,
      "outputs": [
        {
          "output_type": "stream",
          "name": "stdout",
          "text": [
            "[[0.80801674 0.06362119 0.05597212]\n",
            " [0.79702565 0.05199995 0.99613521]\n",
            " [0.08673015 0.005531   0.20207743]]\n"
          ]
        },
        {
          "output_type": "execute_result",
          "data": {
            "text/plain": [
              "(3, 3)"
            ]
          },
          "metadata": {},
          "execution_count": 12
        }
      ]
    },
    {
      "cell_type": "code",
      "source": [
        "matrix_4 = np.random.randint(10,100 , (4,4))\n",
        "print(matrix_4)\n",
        "matrix_4.shape"
      ],
      "metadata": {
        "colab": {
          "base_uri": "https://localhost:8080/"
        },
        "id": "yvnElYb38-Gp",
        "outputId": "9575be72-02c6-44fb-a2d9-b1d71f024075"
      },
      "execution_count": 14,
      "outputs": [
        {
          "output_type": "stream",
          "name": "stdout",
          "text": [
            "[[80 94 65 95]\n",
            " [81 20 70 38]\n",
            " [61 56 34 16]\n",
            " [94 87 47 60]]\n"
          ]
        },
        {
          "output_type": "execute_result",
          "data": {
            "text/plain": [
              "(4, 4)"
            ]
          },
          "metadata": {},
          "execution_count": 14
        }
      ]
    },
    {
      "cell_type": "markdown",
      "source": [
        "**Matrix with all the values as 1**\n",
        "\n",
        "---\n",
        "\n"
      ],
      "metadata": {
        "id": "E8PqxlBA9Nln"
      }
    },
    {
      "cell_type": "code",
      "source": [
        "matrix_5 = np.ones(shape = (4,4) , dtype=int)\n",
        "print(matrix_5)\n",
        "matrix_5.shape"
      ],
      "metadata": {
        "colab": {
          "base_uri": "https://localhost:8080/"
        },
        "id": "Y6pIHVy89Gz5",
        "outputId": "ed2cd657-2bb0-4782-fdcf-50fae47b1003"
      },
      "execution_count": 18,
      "outputs": [
        {
          "output_type": "stream",
          "name": "stdout",
          "text": [
            "[[1 1 1 1]\n",
            " [1 1 1 1]\n",
            " [1 1 1 1]\n",
            " [1 1 1 1]]\n"
          ]
        },
        {
          "output_type": "execute_result",
          "data": {
            "text/plain": [
              "(4, 4)"
            ]
          },
          "metadata": {},
          "execution_count": 18
        }
      ]
    },
    {
      "cell_type": "markdown",
      "source": [
        "**Null Matrix**\n",
        "\n",
        "---\n",
        "\n"
      ],
      "metadata": {
        "id": "kcbT3Q3t9lvd"
      }
    },
    {
      "cell_type": "code",
      "source": [
        "matrix_5 = np.zeros(shape = (4,4) , dtype=int)\n",
        "print(matrix_5)\n",
        "matrix_5.shape"
      ],
      "metadata": {
        "colab": {
          "base_uri": "https://localhost:8080/"
        },
        "id": "1bsn6A1l9WC4",
        "outputId": "41e0f60b-cc5a-486a-a75a-41bf2460e2b0"
      },
      "execution_count": 21,
      "outputs": [
        {
          "output_type": "stream",
          "name": "stdout",
          "text": [
            "[[0 0 0 0]\n",
            " [0 0 0 0]\n",
            " [0 0 0 0]\n",
            " [0 0 0 0]]\n"
          ]
        },
        {
          "output_type": "execute_result",
          "data": {
            "text/plain": [
              "(4, 4)"
            ]
          },
          "metadata": {},
          "execution_count": 21
        }
      ]
    },
    {
      "cell_type": "markdown",
      "source": [
        "**Identity Matrix**\n",
        "\n",
        "---\n",
        "\n"
      ],
      "metadata": {
        "id": "S4oY9PIO9o7t"
      }
    },
    {
      "cell_type": "code",
      "source": [
        "matrix_6 = np.eye(4 , dtype=int)\n",
        "print(matrix_6)\n",
        "matrix_6.shape"
      ],
      "metadata": {
        "colab": {
          "base_uri": "https://localhost:8080/"
        },
        "id": "Bath78zy9giZ",
        "outputId": "1cd023f8-e801-474c-d1a9-79f5defd5582"
      },
      "execution_count": 22,
      "outputs": [
        {
          "output_type": "stream",
          "name": "stdout",
          "text": [
            "[[1 0 0 0]\n",
            " [0 1 0 0]\n",
            " [0 0 1 0]\n",
            " [0 0 0 1]]\n"
          ]
        },
        {
          "output_type": "execute_result",
          "data": {
            "text/plain": [
              "(4, 4)"
            ]
          },
          "metadata": {},
          "execution_count": 22
        }
      ]
    },
    {
      "cell_type": "markdown",
      "source": [
        "**Transpose of an Matrix**\n",
        "\n",
        "---\n",
        "\n"
      ],
      "metadata": {
        "id": "pHcTMCTE90Sb"
      }
    },
    {
      "cell_type": "code",
      "source": [
        "matrix_7 = np.random.randint(0 ,5 , size = (3,3) , dtype=int)\n",
        "print(matrix_7)\n",
        "matrix_7.shape"
      ],
      "metadata": {
        "colab": {
          "base_uri": "https://localhost:8080/"
        },
        "id": "_sTJZkVc9wHo",
        "outputId": "e829b82a-afaa-494b-a0f1-d121ad8b5ae1"
      },
      "execution_count": 24,
      "outputs": [
        {
          "output_type": "stream",
          "name": "stdout",
          "text": [
            "[[1 3 3]\n",
            " [3 4 1]\n",
            " [2 4 1]]\n"
          ]
        },
        {
          "output_type": "execute_result",
          "data": {
            "text/plain": [
              "(3, 3)"
            ]
          },
          "metadata": {},
          "execution_count": 24
        }
      ]
    },
    {
      "cell_type": "code",
      "source": [
        "print(\"Transpose Of the Matrix_7 is :- \")\n",
        "print(matrix_7.transpose())"
      ],
      "metadata": {
        "colab": {
          "base_uri": "https://localhost:8080/"
        },
        "id": "RwunufeW-E8Z",
        "outputId": "cd48b5ea-ced4-4305-cb0e-11a68e6ba87d"
      },
      "execution_count": 25,
      "outputs": [
        {
          "output_type": "stream",
          "name": "stdout",
          "text": [
            "Transpose Of the Matrix_7 is :- \n",
            "[[1 3 2]\n",
            " [3 4 4]\n",
            " [3 1 1]]\n"
          ]
        }
      ]
    }
  ]
}