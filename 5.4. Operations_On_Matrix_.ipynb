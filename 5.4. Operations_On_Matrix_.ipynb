{
  "nbformat": 4,
  "nbformat_minor": 0,
  "metadata": {
    "colab": {
      "provenance": [],
      "authorship_tag": "ABX9TyP1JmKQqD/RSUCRRfNmVPRX",
      "include_colab_link": true
    },
    "kernelspec": {
      "name": "python3",
      "display_name": "Python 3"
    },
    "language_info": {
      "name": "python"
    }
  },
  "cells": [
    {
      "cell_type": "markdown",
      "metadata": {
        "id": "view-in-github",
        "colab_type": "text"
      },
      "source": [
        "<a href=\"https://colab.research.google.com/github/DikshaDayal/Machine-Learning-part-02-/blob/main/5.4.%20Operations_On_Matrix_.ipynb\" target=\"_parent\"><img src=\"https://colab.research.google.com/assets/colab-badge.svg\" alt=\"Open In Colab\"/></a>"
      ]
    },
    {
      "cell_type": "code",
      "execution_count": 1,
      "metadata": {
        "id": "dNIUPTbY-ZJw"
      },
      "outputs": [],
      "source": [
        "#Importing Libraries and Dependencies\n",
        "import numpy as np"
      ]
    },
    {
      "cell_type": "markdown",
      "source": [
        "**Matrix Addition**"
      ],
      "metadata": {
        "id": "L4pD-jHv_NKX"
      }
    },
    {
      "cell_type": "code",
      "source": [
        "A = np.array(([1,2],[3,4]))\n",
        "B = np.array(([1,2],[3,4]))\n",
        "print(A)\n",
        "print('Dimensions of the matrix :- ' , A.shape)\n",
        "print(B)\n",
        "print('Dimensions of the matrix :- ' , B.shape)\n",
        "\n",
        "print(A+B)"
      ],
      "metadata": {
        "colab": {
          "base_uri": "https://localhost:8080/"
        },
        "id": "WedrAXKl-ix1",
        "outputId": "d9b5f171-ed0f-4b11-ef31-fcaa8bb0666d"
      },
      "execution_count": 6,
      "outputs": [
        {
          "output_type": "stream",
          "name": "stdout",
          "text": [
            "[[1 2]\n",
            " [3 4]]\n",
            "Dimensions of the matrix :-  (2, 2)\n",
            "[[1 2]\n",
            " [3 4]]\n",
            "Dimensions of the matrix :-  (2, 2)\n",
            "[[2 4]\n",
            " [6 8]]\n"
          ]
        }
      ]
    },
    {
      "cell_type": "code",
      "source": [
        "Sum = np.add(A,B)\n",
        "print('The Sum Of A and B is :- ')\n",
        "print(Sum)"
      ],
      "metadata": {
        "colab": {
          "base_uri": "https://localhost:8080/"
        },
        "id": "5pW2k5ZeCahO",
        "outputId": "62e86014-1f52-4353-edaf-f3d18bac3a0a"
      },
      "execution_count": 12,
      "outputs": [
        {
          "output_type": "stream",
          "name": "stdout",
          "text": [
            "The Sum Of A and B is :- \n",
            "[[2 4]\n",
            " [6 8]]\n"
          ]
        }
      ]
    },
    {
      "cell_type": "code",
      "source": [
        "# create two matrices with random values\n",
        "C = np.random.randint(10,50, (3,3))\n",
        "D = np.random.randint(20,50,(3,3))\n",
        "print('The Matrix of C is :- ')\n",
        "print(C)\n",
        "print('The Matrix of D is :- ')\n",
        "print(D)\n",
        "print('The Sum of C and D is :- ')\n",
        "print(C+D)"
      ],
      "metadata": {
        "colab": {
          "base_uri": "https://localhost:8080/"
        },
        "id": "yjSgdynQBaqq",
        "outputId": "9111d2bc-835c-42b4-c143-92b7badea904"
      },
      "execution_count": 10,
      "outputs": [
        {
          "output_type": "stream",
          "name": "stdout",
          "text": [
            "The Matrix of C is :- \n",
            "[[47 17 29]\n",
            " [33 24 41]\n",
            " [34 35 34]]\n",
            "The Matrix of D is :- \n",
            "[[41 45 22]\n",
            " [41 29 49]\n",
            " [47 31 23]]\n",
            "The Sum of C and D is :- \n",
            "[[88 62 51]\n",
            " [74 53 90]\n",
            " [81 66 57]]\n"
          ]
        }
      ]
    },
    {
      "cell_type": "markdown",
      "source": [
        "\n",
        "Matrix Subtraction\n",
        "\n",
        "---\n",
        "\n"
      ],
      "metadata": {
        "id": "IjbCITqeCnFz"
      }
    },
    {
      "cell_type": "code",
      "source": [
        "A = np.array(([1,2],[3,4]))\n",
        "B = np.array(([1,2],[3,4]))\n",
        "print(A)\n",
        "print('Dimensions of the matrix :- ' , A.shape)\n",
        "print(B)\n",
        "print('Dimensions of the matrix :- ' , B.shape)\n",
        "\n",
        "print(A-B)"
      ],
      "metadata": {
        "colab": {
          "base_uri": "https://localhost:8080/"
        },
        "id": "j66uw_kMCGLJ",
        "outputId": "3d7f67af-66bf-4da3-9161-0bc8bc88c219"
      },
      "execution_count": 13,
      "outputs": [
        {
          "output_type": "stream",
          "name": "stdout",
          "text": [
            "[[1 2]\n",
            " [3 4]]\n",
            "Dimensions of the matrix :-  (2, 2)\n",
            "[[1 2]\n",
            " [3 4]]\n",
            "Dimensions of the matrix :-  (2, 2)\n",
            "[[0 0]\n",
            " [0 0]]\n"
          ]
        }
      ]
    },
    {
      "cell_type": "code",
      "source": [
        "Difference = np.add(A,B)\n",
        "print('The Difference Of A and B is :- ')\n",
        "print(Difference)\n"
      ],
      "metadata": {
        "colab": {
          "base_uri": "https://localhost:8080/"
        },
        "id": "WmOuVg3BFUvZ",
        "outputId": "0fd2276f-6563-4df9-c0de-0988cfe2a816"
      },
      "execution_count": 14,
      "outputs": [
        {
          "output_type": "stream",
          "name": "stdout",
          "text": [
            "The Difference Of A and B is :- \n",
            "[[2 4]\n",
            " [6 8]]\n"
          ]
        }
      ]
    },
    {
      "cell_type": "code",
      "source": [
        "# create two matrices with random values\n",
        "C = np.random.randint(10,50, (3,3))\n",
        "D = np.random.randint(20,50,(3,3))\n",
        "print('The Matrix of C is :- ')\n",
        "print(C)\n",
        "print('The Matrix of D is :- ')\n",
        "print(D)\n",
        "print('The Difference of C and D is :- ')\n",
        "print(C-D)"
      ],
      "metadata": {
        "colab": {
          "base_uri": "https://localhost:8080/"
        },
        "id": "oVz0RwzSFbQI",
        "outputId": "85f155f8-3997-4a1c-bc6b-4d53b6ad18b2"
      },
      "execution_count": 15,
      "outputs": [
        {
          "output_type": "stream",
          "name": "stdout",
          "text": [
            "The Matrix of C is :- \n",
            "[[13 37 14]\n",
            " [43 23 23]\n",
            " [24 49 36]]\n",
            "The Matrix of D is :- \n",
            "[[48 40 43]\n",
            " [27 25 31]\n",
            " [42 41 41]]\n",
            "The Difference of C and D is :- \n",
            "[[-35  -3 -29]\n",
            " [ 16  -2  -8]\n",
            " [-18   8  -5]]\n"
          ]
        }
      ]
    },
    {
      "cell_type": "markdown",
      "source": [
        "**Multiplying a matrix by a scalar**"
      ],
      "metadata": {
        "id": "zVigATMnFpFh"
      }
    },
    {
      "cell_type": "code",
      "source": [
        "A = np.random.randint(10,20 , (3,3))\n",
        "print('The Matrix A is :- ',A)"
      ],
      "metadata": {
        "colab": {
          "base_uri": "https://localhost:8080/"
        },
        "id": "X8Nt8uXXFguq",
        "outputId": "20beb9fe-33ed-4823-c6bc-be9571e5960d"
      },
      "execution_count": 17,
      "outputs": [
        {
          "output_type": "stream",
          "name": "stdout",
          "text": [
            "The Matrix A is :-  [[11 12 18]\n",
            " [16 12 12]\n",
            " [17 19 19]]\n"
          ]
        }
      ]
    },
    {
      "cell_type": "code",
      "source": [
        "mul = 5\n",
        "print('The Matrix after multiplying with' , mul , 'is :-' )\n",
        "print(np.multiply(mul,A))"
      ],
      "metadata": {
        "colab": {
          "base_uri": "https://localhost:8080/"
        },
        "id": "GJKLQ0MXF5W4",
        "outputId": "bd8228fe-1af3-480b-8a4b-8c249177cf27"
      },
      "execution_count": 21,
      "outputs": [
        {
          "output_type": "stream",
          "name": "stdout",
          "text": [
            "The Matrix after multiplying with 5 is :-\n",
            "[[55 60 90]\n",
            " [80 60 60]\n",
            " [85 95 95]]\n"
          ]
        }
      ]
    },
    {
      "cell_type": "markdown",
      "source": [
        "**Multiplying 2 Matrices**\n",
        "\n",
        "---\n",
        "\n"
      ],
      "metadata": {
        "id": "Ps3LoLbBGSnJ"
      }
    },
    {
      "cell_type": "code",
      "source": [
        "A = np.random.randint(10,20 , (3,3))\n",
        "B = np.random.randint(10,20 , (3,3))\n",
        "print('The Matrix A is :- ')\n",
        "print(A)\n",
        "print('The Matrix B is :- ')\n",
        "print(B)\n",
        "# Element wise Multiplication\n",
        "# print('Multiplyng Matrix A and B :- ')\n",
        "# print(np.multiply(A,B))"
      ],
      "metadata": {
        "colab": {
          "base_uri": "https://localhost:8080/"
        },
        "id": "mYMYwJLBGFF4",
        "outputId": "a35aac61-64ac-4f5d-8c42-2ebc7e68a996"
      },
      "execution_count": 30,
      "outputs": [
        {
          "output_type": "stream",
          "name": "stdout",
          "text": [
            "The Matrix A is :- \n",
            "[[11 13 10]\n",
            " [14 17 11]\n",
            " [10 14 16]]\n",
            "The Matrix B is :- \n",
            "[[13 19 18]\n",
            " [16 14 12]\n",
            " [18 11 18]]\n"
          ]
        }
      ]
    },
    {
      "cell_type": "markdown",
      "source": [
        "**Dot product**\n",
        "\n",
        "---\n",
        "\n"
      ],
      "metadata": {
        "id": "vPWlMowIG06Z"
      }
    },
    {
      "cell_type": "code",
      "source": [
        "dot_product = np.dot(A,B)\n",
        "print('Dot product of A and b Matrix is :- ')\n",
        "print(dot_product)\n",
        "print ('Dimensions of the resultant matrix :- ')\n",
        "dot_product.shape"
      ],
      "metadata": {
        "colab": {
          "base_uri": "https://localhost:8080/"
        },
        "id": "-V1KQh0HGp34",
        "outputId": "1de08826-da75-4779-e05a-e9279c68e752"
      },
      "execution_count": 28,
      "outputs": [
        {
          "output_type": "stream",
          "name": "stdout",
          "text": [
            "Dot product of A and b Matrix is :- \n",
            "[[550 600 400]\n",
            " [619 710 450]\n",
            " [598 688 440]]\n",
            "Dimensions of the resultant matrix :- \n"
          ]
        },
        {
          "output_type": "execute_result",
          "data": {
            "text/plain": [
              "(3, 3)"
            ]
          },
          "metadata": {},
          "execution_count": 28
        }
      ]
    },
    {
      "cell_type": "markdown",
      "source": [
        "**Cross Product**\n",
        "\n",
        "---\n",
        "\n"
      ],
      "metadata": {
        "id": "UVSndssvHAu7"
      }
    },
    {
      "cell_type": "code",
      "source": [
        "cross_product = np.cross(A,B)\n",
        "print(cross_product)\n",
        "print ('Dimensions of the resultant matrix :- ')\n",
        "cross_product.shape"
      ],
      "metadata": {
        "colab": {
          "base_uri": "https://localhost:8080/"
        },
        "id": "d49Q4iamG6p4",
        "outputId": "6526191b-0f37-4c4b-c529-e4fc47705e4d"
      },
      "execution_count": 27,
      "outputs": [
        {
          "output_type": "stream",
          "name": "stdout",
          "text": [
            "[[-142   66   44]\n",
            " [ -17   17    0]\n",
            " [   6  -14    9]]\n",
            "Dimensions of the resultant matrix :- \n"
          ]
        },
        {
          "output_type": "execute_result",
          "data": {
            "text/plain": [
              "(3, 3)"
            ]
          },
          "metadata": {},
          "execution_count": 27
        }
      ]
    },
    {
      "cell_type": "markdown",
      "source": [
        "Multiplying Two Matrices Elements wise\n",
        "\n",
        "\n",
        "---\n",
        "\n"
      ],
      "metadata": {
        "id": "Vd5PDddrHl8n"
      }
    },
    {
      "cell_type": "code",
      "source": [
        "print(np.multiply(A,B))"
      ],
      "metadata": {
        "colab": {
          "base_uri": "https://localhost:8080/"
        },
        "id": "ha4SDZ6tHGqY",
        "outputId": "9c4534fa-dcbb-4ed9-ff0e-067dd169586a"
      },
      "execution_count": 29,
      "outputs": [
        {
          "output_type": "stream",
          "name": "stdout",
          "text": [
            "[[121 221 160]\n",
            " [289 289 110]\n",
            " [221 180 120]]\n"
          ]
        }
      ]
    }
  ]
}